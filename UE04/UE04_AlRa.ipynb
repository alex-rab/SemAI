{
 "nbformat": 4,
 "nbformat_minor": 0,
 "metadata": {
  "colab": {
   "provenance": []
  },
  "kernelspec": {
   "name": "python3",
   "display_name": "Python 3"
  },
  "language_info": {
   "name": "python"
  }
 },
 "cells": [
  {
   "cell_type": "markdown",
   "source": [
    "Course Instructor: Bernd Neumayr, JKU\n",
    "\n",
    "# UE04- SPARQL Updata and RDF Datasets\n",
    "\n",
    "Complete the **8 tasks (1 point per task)** in the `3. SPARQL Update` sheet of `SemAI.jar` first and then transfer them to this notebook.\n",
    "\n",
    "For each task include:\n",
    "- A headline including the task number\n",
    "- The task description \n",
    "- Your solution in executable form: your solutions for SemAI.jar will make use of the default grap. In this notebook you have to transform your solutions according to the workaround exemplified in V04_SPARQL_Update.ipynb\n",
    "- After executing the update request, print a serizalization of the dataset in TriG format.  \n",
    "\n",
    "**Task 9 (2 points)**  is to develop a nice visualization of RDF datasets using `visualize_graph_pyvis` from UE02 as a starting point. The requirements are as follows:\n",
    "- Each named graph must be represented as an independent graph. This means, for example, that :Jane in :JanesGraph is a different node than :Jane in :BillsGraph. There are no edges between nodes in different graphs.\n",
    "- It is not strictly necessary to draw a box around each named graph, as seen in the slides. The different named graphs should simply be visually distinguishable and not overlap.\n",
    "- If not all nodes within a named graph are connected, make sure in the visualization that the named graph still forms a coherent visual unit in some way.\n",
    "\n",
    "## Preparations"
   ],
   "metadata": {
    "id": "HnpijZy2D1Hd"
   }
  },
  {
   "cell_type": "code",
   "source": [
    "# Install required packages\n",
    "!pip install -q rdflib     # comment to avoid re-install with every re-run"
   ],
   "metadata": {
    "id": "BGatBfM2Mnw2"
   },
   "execution_count": 1,
   "outputs": [
    {
     "name": "stderr",
     "output_type": "stream",
     "text": [
      "ERROR: Invalid requirement: '#'\n",
      "\n",
      "[notice] A new release of pip available: 22.3 -> 23.1\n",
      "[notice] To update, run: python.exe -m pip install --upgrade pip\n"
     ]
    }
   ]
  },
  {
   "cell_type": "markdown",
   "source": [
    "### Imports and Functions \n",
    "\n",
    "We are re-using the sparql_select function. "
   ],
   "metadata": {
    "id": "mnAk4obSMwGH"
   }
  },
  {
   "cell_type": "code",
   "source": [
    "# Imports\n",
    "import pandas as pd\n",
    "import rdflib\n",
    "from rdflib import Graph, Literal, RDF, URIRef, BNode, Namespace\n",
    "\n",
    "\n",
    "# Convenient Functions\n",
    "def sparql_select(graph,query,use_prefixes=True):\n",
    "  results = graph.query(query)          # execute the query against the graph, resulting in a rdflib.plugins.sparql.processor.SPARQLResult\n",
    "  rows = []                             # a list of dictionaries, as intermediate format to construct the pandas DataFrame\n",
    "  for result in results:                # iterate over the result set of the query, a result is an instance of rdflib.query.ResultRow\n",
    "    row = {}                            #     create a dictionary to hold a single row of the result\n",
    "    for var in results.vars:            #     iterate over the variables of the SPARQLResult to add a dictionary entry for each variable\n",
    "      if (isinstance(result[var],URIRef) and use_prefixes):\n",
    "        row[var] = result[var].n3(graph.namespace_manager)   # use namespace prefixes to shorten URIs\n",
    "      else:\n",
    "        row[var] = result[var]                  \n",
    "    rows.append(row)                    #     add the dictionary (row) to the list \n",
    "  return pd.DataFrame(rows,columns=results.vars)        \n",
    "                                        # return a pandas DataFrame constructed from the list of dictionaries, with the variables from the result set as columns      \n"
   ],
   "metadata": {
    "id": "X-PaCx1nMylp"
   },
   "execution_count": 2,
   "outputs": []
  },
  {
   "cell_type": "markdown",
   "source": [
    "## Task 1\n",
    "\n",
    "Sie beginnen mit einem leeren Dataset. Fügen Sie in den Default Graph Statements ein, die sagen, dass :Peter der Autor von :G1 ist, und :Mary Autor von :G2."
   ],
   "metadata": {
    "id": "VtPxqekrM1hf"
   }
  },
  {
   "cell_type": "code",
   "source": [
    "dataset1 = \"\"\"\n",
    "@prefix :    <http://example.org/> .\n",
    "@prefix rdf: <http://www.w3.org/1999/02/22-rdf-syntax-ns#>  .\n",
    "\"\"\"\n",
    "\n",
    "task1 = \"\"\"\n",
    "INSERT DATA {\n",
    ":G1 :author :Mary .\n",
    ":G2 :author :Peter .\n",
    "}\n",
    "\"\"\"\n",
    "\n",
    "g = rdflib.Graph().parse(format=\"turtle\",data=dataset1)\n",
    "g.update(task1)\n",
    "\n",
    "print(g.serialize(format=\"turtle\"))"
   ],
   "metadata": {
    "id": "nNVD7wL0NN_9"
   },
   "execution_count": 3,
   "outputs": [
    {
     "name": "stdout",
     "output_type": "stream",
     "text": [
      "@prefix : <http://example.org/> .\n",
      "\n",
      ":G1 :author :Mary .\n",
      "\n",
      ":G2 :author :Peter .\n",
      "\n",
      "\n"
     ]
    }
   ]
  },
  {
   "cell_type": "markdown",
   "source": [
    "## Task 2\n",
    "\n",
    "Schreiben Sie { :Mary :knows :Peter, :John, :Mary. } in den Named Graph :G1 und { :Peter :knows :Mary. :John :knows :Mary. } in den Named Graph :G2."
   ],
   "metadata": {
    "id": "IhbtbL3NPseX"
   }
  },
  {
   "cell_type": "code",
   "source": [
    "dataset2 = \"\"\"\n",
    "@prefix :    <http://example.org/> .\n",
    "@prefix rdf: <http://www.w3.org/1999/02/22-rdf-syntax-ns#>  .\n",
    "@prefix xrdf: <urn:x-rdflib>  .\n",
    "\n",
    "xrdf:default {\n",
    ":G1  :author  :Mary .\n",
    ":G2  :author  :Peter .\n",
    "}\n",
    "\"\"\"\n",
    "\n",
    "task2 = \"\"\"\n",
    "Insert Data {\n",
    "GRAPH :G1 {\n",
    ":Mary :knows :Peter, :John, :Mary .\n",
    "}\n",
    "GRAPH :G2 {\n",
    ":Peter :knows :Mary .\n",
    ":John :knows :Mary .\n",
    "}\n",
    "}\n",
    "\"\"\"\n",
    "\n",
    "ds = rdflib.Dataset()\n",
    "ds.parse(format=\"trig\", data=dataset2)\n",
    "ds.update(task2)\n",
    "\n",
    "print(ds.serialize(format=\"trig\"))"
   ],
   "metadata": {
    "id": "wT-mszbwPzab"
   },
   "execution_count": 4,
   "outputs": [
    {
     "name": "stdout",
     "output_type": "stream",
     "text": [
      "@prefix : <http://example.org/> .\n",
      "@prefix ns1: <urn:> .\n",
      "\n",
      ":G1 {\n",
      "    :Mary :knows :John,\n",
      "            :Mary,\n",
      "            :Peter .\n",
      "}\n",
      "\n",
      "ns1:x-rdflibdefault {\n",
      "    :G1 :author :Mary .\n",
      "\n",
      "    :G2 :author :Peter .\n",
      "}\n",
      "\n",
      ":G2 {\n",
      "    :John :knows :Mary .\n",
      "\n",
      "    :Peter :knows :Mary .\n",
      "}\n",
      "\n",
      "\n"
     ]
    }
   ]
  },
  {
   "cell_type": "markdown",
   "source": [
    "## Task 3\n",
    "\n",
    "Fragen Sie mittels INSERT-WHERE die :knows-Beziehungen aus :G2 ab und fügen deren inverse :knownBy-Beziehungen in den Default-Graph ein. Ihr Update Request darf nicht enthalten: [Mary, Peter, John]"
   ],
   "metadata": {
    "id": "k_yquesUuDA1"
   }
  },
  {
   "cell_type": "code",
   "source": [
    "dataset3 = \"\"\"\n",
    "@prefix :    <http://example.org/> .\n",
    "@prefix rdf: <http://www.w3.org/1999/02/22-rdf-syntax-ns#>  .\n",
    "@prefix xrdf: <urn:x-rdflib>  .\n",
    "\n",
    "xrdf:default {\n",
    "  :G1  :author  :Mary .\n",
    "  :G2  :author  :Peter .\n",
    "}\n",
    ":G1 {\n",
    "   :Mary :knows :Mary , :John , :Peter .\n",
    "}\n",
    ":G2 {\n",
    "   :John  :knows  :Mary .\n",
    "   :Peter :knows  :Mary .\n",
    "}\n",
    "\"\"\"\n",
    "\n",
    "task3 = \"\"\"\n",
    "INSERT { GRAPH xrdf:default { ?p2 :knownBy ?p1 } }\n",
    "WHERE {\n",
    "GRAPH :G2\n",
    "{\n",
    "?p1 ?knows ?p2\n",
    "}\n",
    "} \n",
    "\"\"\"\n",
    "\n",
    "ds = rdflib.Dataset()\n",
    "ds.parse(format=\"trig\", data=dataset3)\n",
    "ds.update(task3)\n",
    "\n",
    "print(ds.serialize(format=\"trig\"))"
   ],
   "metadata": {
    "id": "_oUIYdViuJL6"
   },
   "execution_count": 5,
   "outputs": [
    {
     "name": "stdout",
     "output_type": "stream",
     "text": [
      "@prefix : <http://example.org/> .\n",
      "@prefix ns1: <urn:> .\n",
      "\n",
      ":G1 {\n",
      "    :Mary :knows :John,\n",
      "            :Mary,\n",
      "            :Peter .\n",
      "}\n",
      "\n",
      "ns1:x-rdflibdefault {\n",
      "    :G1 :author :Mary .\n",
      "\n",
      "    :G2 :author :Peter .\n",
      "\n",
      "    :Mary :knownBy :John,\n",
      "            :Peter .\n",
      "}\n",
      "\n",
      ":G2 {\n",
      "    :John :knows :Mary .\n",
      "\n",
      "    :Peter :knows :Mary .\n",
      "}\n",
      "\n",
      "\n"
     ]
    }
   ]
  },
  {
   "cell_type": "markdown",
   "source": [
    "## Task 4\n",
    "\n",
    "Löschen Sie mittels DELETE-WHERE alle :knownBy-Beziehungen aus dem Default-Graph. Ihr Update Request darf nicht enthalten: [Mary, Peter, John]"
   ],
   "metadata": {
    "id": "oMUZ6eaQwDsZ"
   }
  },
  {
   "cell_type": "code",
   "source": [
    "dataset4 = \"\"\"\n",
    "@prefix :    <http://example.org/> .\n",
    "@prefix rdf: <http://www.w3.org/1999/02/22-rdf-syntax-ns#>  .\n",
    "@prefix xrdf: <urn:x-rdflib>  .\n",
    "\n",
    "xrdf:default {\n",
    ":G1  :author  :Mary .\n",
    ":G2  :author  :Peter .\n",
    ":Mary  :knownBy  :Peter , :John .\n",
    "}\n",
    ":G1 {\n",
    "    :Mary  :knows  :Mary , :John , :Peter .\n",
    "}\n",
    ":G2 {\n",
    "    :John  :knows  :Mary .\n",
    "    :Peter :knows  :Mary .\n",
    "}\n",
    "\"\"\"\n",
    "\n",
    "task4 = \"\"\"\n",
    "DELETE { GRAPH xrdf:default { ?x :knownBy ?y } }\n",
    "WHERE {\n",
    "GRAPH xrdf:default {\n",
    "?x :knownBy ?y\n",
    "}\n",
    "}\n",
    "\"\"\"\n",
    "\n",
    "ds = rdflib.Dataset()\n",
    "ds.parse(format=\"trig\", data=dataset4)\n",
    "ds.update(task4)\n",
    "\n",
    "print(ds.serialize(format=\"trig\"))"
   ],
   "metadata": {
    "id": "c8MmMni-wJ0V"
   },
   "execution_count": 6,
   "outputs": [
    {
     "name": "stdout",
     "output_type": "stream",
     "text": [
      "@prefix : <http://example.org/> .\n",
      "@prefix ns1: <urn:> .\n",
      "\n",
      ":G1 {\n",
      "    :Mary :knows :John,\n",
      "            :Mary,\n",
      "            :Peter .\n",
      "}\n",
      "\n",
      "ns1:x-rdflibdefault {\n",
      "    :G1 :author :Mary .\n",
      "\n",
      "    :G2 :author :Peter .\n",
      "}\n",
      "\n",
      ":G2 {\n",
      "    :John :knows :Mary .\n",
      "\n",
      "    :Peter :knows :Mary .\n",
      "}\n",
      "\n",
      "\n"
     ]
    }
   ]
  },
  {
   "cell_type": "markdown",
   "source": [
    "## Task 5\n",
    "\n",
    "Ermitteln Sie mittels INSERT-WHERE zu jedem Named-Graph dessen Anzahl an Statements mit der Property :knows und schreiben Sie diese in den Default Graph. Ihr Update Request darf nicht enthalten: [G1, G2]"
   ],
   "metadata": {
    "id": "XCQtyVUfxQnK"
   }
  },
  {
   "cell_type": "code",
   "source": [
    "dataset5 = \"\"\"\n",
    "@prefix :    <http://example.org/> .\n",
    "@prefix rdf: <http://www.w3.org/1999/02/22-rdf-syntax-ns#>  .\n",
    "@prefix xrdf: <urn:x-rdflib>  .\n",
    "\n",
    "xrdf:default {\n",
    ":G1  :author  :Mary .\n",
    ":G2  :author  :Peter .\n",
    "}\n",
    ":G1 {\n",
    "   :Mary :knows :Mary , :John , :Peter .\n",
    "}\n",
    ":G2 {\n",
    "   :John :knows :Mary .\n",
    "   :Peter  :knows  :Mary .\n",
    "}\n",
    "\"\"\"\n",
    "\n",
    "task5 = \"\"\"\n",
    "INSERT { GRAPH xrdf:default { ?g :knowsCount ?xcount } }\n",
    "WHERE {\n",
    "Select ?g (count(?x) as ?xcount)\n",
    "WHERE {\n",
    "GRAPH ?g\n",
    "{\n",
    "?x :knows ?y\n",
    "} }\n",
    "GROUP BY ?g\n",
    "}\n",
    "\"\"\"\n",
    "\n",
    "ds = rdflib.Dataset()\n",
    "ds.parse(format=\"trig\", data=dataset5)\n",
    "ds.update(task5)\n",
    "\n",
    "print(ds.serialize(format=\"trig\"))"
   ],
   "metadata": {
    "id": "hqWpF_0VxVJ6"
   },
   "execution_count": 7,
   "outputs": [
    {
     "name": "stdout",
     "output_type": "stream",
     "text": [
      "@prefix : <http://example.org/> .\n",
      "@prefix ns1: <urn:> .\n",
      "@prefix xsd: <http://www.w3.org/2001/XMLSchema#> .\n",
      "\n",
      ":G2 {\n",
      "    :John :knows :Mary .\n",
      "\n",
      "    :Peter :knows :Mary .\n",
      "}\n",
      "\n",
      ":G1 {\n",
      "    :Mary :knows :John,\n",
      "            :Mary,\n",
      "            :Peter .\n",
      "}\n",
      "\n",
      "ns1:x-rdflibdefault {\n",
      "    :G1 :author :Mary ;\n",
      "        :knowsCount 3 .\n",
      "\n",
      "    :G2 :author :Peter ;\n",
      "        :knowsCount 2 .\n",
      "}\n",
      "\n",
      "\n"
     ]
    }
   ]
  },
  {
   "cell_type": "markdown",
   "source": [
    "## Task 6\n",
    "\n",
    "Ermitteln Sie mittels INSERT-WHERE die Anzahl an Named Graphs und schreiben Sie sie in den Default Graph. Ihr Update Request darf nicht enthalten: [2]"
   ],
   "metadata": {
    "id": "oE0OtsmmyA8D"
   }
  },
  {
   "cell_type": "code",
   "source": [
    "#Does not currently work with the default graph --> but is executed correctly in SemAI.jar\n",
    "#The following line is only necessary as somehow the \"invisible\" graph gets counted as well: FILTER( contains(str(?g), \"G\") )\n",
    "dataset6 = \"\"\"\n",
    "@prefix :    <http://example.org/> .\n",
    "@prefix rdf: <http://www.w3.org/1999/02/22-rdf-syntax-ns#>  .\n",
    "@prefix xrdf: <urn:x-rdflib:default>  .\n",
    "\n",
    "xrdf:default {\n",
    ":G1 :author :Mary ;\n",
    "    :knowsCount  3 .\n",
    ":G2 :author :Peter ;\n",
    "    :knowsCount  2 .\n",
    "}\n",
    ":G1 {\n",
    "   :Mary  :knows  :Mary , :John , :Peter . }\n",
    ":G2 {\n",
    "   :John  :knows  :Mary .\n",
    "   :Peter  :knows  :Mary . }\n",
    "\"\"\"\n",
    "\n",
    "task6 = \"\"\"\n",
    "INSERT { GRAPH xrdf:default { :ds :graphCount ?graphcount } }\n",
    "WHERE {\n",
    "Select (count(?g) as ?graphcount)\n",
    "WHERE {\n",
    "GRAPH ?g {}\n",
    "FILTER( contains(str(?g), \"G\") )\n",
    "}\n",
    "}\n",
    "\"\"\"\n",
    "\n",
    "query6 = \"\"\"\n",
    "Select (count(?g) as ?graphcount)\n",
    "WHERE {\n",
    "GRAPH ?g {}\n",
    "FILTER( contains(str(?g), \"G\") )\n",
    "}\n",
    "\"\"\"\n",
    "\n",
    "ds = rdflib.Dataset()\n",
    "ds.parse(format=\"trig\", data=dataset6)\n",
    "ds.update(task6)\n",
    "\n",
    "print(ds.serialize(format=\"trig\"))\n",
    "\n",
    "# df = sparql_select(ds, query6)\n",
    "# df"
   ],
   "metadata": {
    "id": "L-pExoaiyFB_"
   },
   "execution_count": 8,
   "outputs": [
    {
     "name": "stdout",
     "output_type": "stream",
     "text": [
      "@prefix : <http://example.org/> .\n",
      "@prefix ns1: <urn:x-rdflib:> .\n",
      "@prefix xsd: <http://www.w3.org/2001/XMLSchema#> .\n",
      "\n",
      ":G2 {\n",
      "    :John :knows :Mary .\n",
      "\n",
      "    :Peter :knows :Mary .\n",
      "}\n",
      "\n",
      ":G1 {\n",
      "    :Mary :knows :John,\n",
      "            :Mary,\n",
      "            :Peter .\n",
      "}\n",
      "\n",
      "ns1:defaultdefault {\n",
      "    :G1 :author :Mary ;\n",
      "        :knowsCount 3 .\n",
      "\n",
      "    :G2 :author :Peter ;\n",
      "        :knowsCount 2 .\n",
      "\n",
      "    :ds :graphCount 2 .\n",
      "}\n",
      "\n",
      "\n"
     ]
    }
   ]
  },
  {
   "cell_type": "markdown",
   "source": [
    "## Task 7\n",
    "\n",
    "Verschieben Sie mittels DELETE-INSERT-WHERE alle Metadaten zu Named Graphs (also Statements die einen Named Graph als Subjekt haben) in den entsprechenden Named Graph. Ihr Update Request darf nicht enthalten: [G1, G2]"
   ],
   "metadata": {
    "id": "e6duaXuvzIxB"
   }
  },
  {
   "cell_type": "code",
   "source": [
    "dataset7 = \"\"\"\n",
    "@prefix :    <http://example.org/> .\n",
    "@prefix rdf: <http://www.w3.org/1999/02/22-rdf-syntax-ns#>  .\n",
    "@prefix xrdf: <urn:x-rdflib>  .\n",
    "\n",
    "xrdf:default {\n",
    ":G1 :author :Mary ; :knowsCount  3 .\n",
    "        :ds :graphCount  2 .\n",
    ":G2 :author :Peter; :knowsCount  2 .\n",
    "}\n",
    ":G1 { :Mary   :knows  :Mary , :John , :Peter .}\n",
    ":G2 { :John   :knows  :Mary . :Peter  :knows  :Mary .}\n",
    "\"\"\"\n",
    "\n",
    "task7 = \"\"\"\n",
    "DELETE { GRAPH xrdf:default { ?g ?prop ?val } }\n",
    "INSERT { GRAPH ?g {\n",
    "?g ?prop ?val\n",
    "} \n",
    "}\n",
    "WHERE {\n",
    "Select ?g ?prop ?val\n",
    "WHERE {\n",
    "GRAPH ?g {}\n",
    "GRAPH xrdf:default { ?g ?prop ?val }\n",
    "}\n",
    "}\n",
    "\"\"\"\n",
    "\n",
    "ds = rdflib.Dataset()\n",
    "ds.parse(format=\"trig\", data=dataset7)\n",
    "ds.update(task7)\n",
    "\n",
    "print(ds.serialize(format=\"trig\"))"
   ],
   "metadata": {
    "id": "ATrSpnoXzNCE"
   },
   "execution_count": 9,
   "outputs": [
    {
     "name": "stdout",
     "output_type": "stream",
     "text": [
      "@prefix : <http://example.org/> .\n",
      "@prefix ns1: <urn:> .\n",
      "@prefix xsd: <http://www.w3.org/2001/XMLSchema#> .\n",
      "\n",
      ":G2 {\n",
      "    :G2 :author :Peter ;\n",
      "        :knowsCount 2 .\n",
      "\n",
      "    :John :knows :Mary .\n",
      "\n",
      "    :Peter :knows :Mary .\n",
      "}\n",
      "\n",
      ":G1 {\n",
      "    :G1 :author :Mary ;\n",
      "        :knowsCount 3 .\n",
      "\n",
      "    :Mary :knows :John,\n",
      "            :Mary,\n",
      "            :Peter .\n",
      "}\n",
      "\n",
      "ns1:x-rdflibdefault {\n",
      "    :ds :graphCount 2 .\n",
      "}\n",
      "\n",
      "\n"
     ]
    }
   ]
  },
  {
   "cell_type": "markdown",
   "source": [
    "## Task 8\n",
    "\n",
    "Schreiben Sie in jeden Named Graph ein Statement, dass der Autor des jeweiligen Named Graphs die :Susi kennt und aktualisieren Sie mit dem selben UpdateRequest den knowsCount. Ihr Update Request darf nicht enthalten: [Peter, Mary]"
   ],
   "metadata": {
    "id": "akNoNmMD3TlE"
   }
  },
  {
   "cell_type": "code",
   "source": [
    "dataset8 = \"\"\"\n",
    "@prefix :    <http://example.org/> .\n",
    "@prefix rdf: <http://www.w3.org/1999/02/22-rdf-syntax-ns#>  .\n",
    "@prefix xrdf: <urn:x-rdflib>  .\n",
    "\n",
    "xrdf:default {\n",
    ":ds  :graphCount  2 .\n",
    "}\n",
    ":G1 { :Mary  :knows  :Mary , :John , :Peter .\n",
    "\t\t:G1  :author  :Mary ; :knowsCount  3 .}\n",
    ":G2 { :John   :knows  :Mary . :G2 :author :Peter ; :knowsCount  2 .\n",
    "\t\t:Peter  :knows  :Mary .}\n",
    "\"\"\"\n",
    "\n",
    "task8 = \"\"\"\n",
    "DELETE { GRAPH ?g {\n",
    "?g :knowsCount ?c\n",
    "} }\n",
    "INSERT { \n",
    "GRAPH ?g {\n",
    "?aut :knows :Susi .\n",
    "} \n",
    "}\n",
    "WHERE {\n",
    "Select ?g ?aut ?c\n",
    "WHERE {\n",
    "GRAPH ?g { ?g :author ?aut . ?g :knowsCount ?c}\n",
    "}\n",
    "};\n",
    "INSERT { GRAPH ?g2 { ?g2 :knowsCount ?xcount } }\n",
    "WHERE {\n",
    "Select ?g2 (count(?x) as ?xcount)\n",
    "WHERE {\n",
    "GRAPH ?g2\n",
    "{\n",
    "?x :knows ?y\n",
    "} }\n",
    "GROUP BY ?g2\n",
    "}\n",
    "\"\"\"\n",
    "\n",
    "ds = rdflib.Dataset()\n",
    "ds.parse(format=\"trig\", data=dataset8)\n",
    "ds.update(task8)\n",
    "\n",
    "print(ds.serialize(format=\"trig\"))"
   ],
   "metadata": {
    "id": "jzDP7vPw3Y-B"
   },
   "execution_count": 10,
   "outputs": [
    {
     "name": "stdout",
     "output_type": "stream",
     "text": [
      "@prefix : <http://example.org/> .\n",
      "@prefix ns1: <urn:> .\n",
      "@prefix xsd: <http://www.w3.org/2001/XMLSchema#> .\n",
      "\n",
      ":G2 {\n",
      "    :G2 :author :Peter ;\n",
      "        :knowsCount 3 .\n",
      "\n",
      "    :John :knows :Mary .\n",
      "\n",
      "    :Peter :knows :Mary,\n",
      "            :Susi .\n",
      "}\n",
      "\n",
      ":G1 {\n",
      "    :G1 :author :Mary ;\n",
      "        :knowsCount 4 .\n",
      "\n",
      "    :Mary :knows :John,\n",
      "            :Mary,\n",
      "            :Peter,\n",
      "            :Susi .\n",
      "}\n",
      "\n",
      "ns1:x-rdflibdefault {\n",
      "    :ds :graphCount 2 .\n",
      "}\n",
      "\n",
      "\n"
     ]
    }
   ]
  }
 ]
}
